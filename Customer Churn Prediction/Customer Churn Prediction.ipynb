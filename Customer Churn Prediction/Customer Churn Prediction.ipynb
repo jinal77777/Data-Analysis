{
 "cells": [
  {
   "cell_type": "markdown",
   "metadata": {},
   "source": [
    "<a id = \"1\" ></a>\n",
    "# <span style=\"font-family:serif; font-size:28px;\"> 1. Introduction</span>\n",
    "<a id = \"introduction\" ></a>"
   ]
  },
  {
   "cell_type": "markdown",
   "metadata": {},
   "source": [
    "<a id = \"2\" ></a>\n",
    "#### <b>What is Customer Churn?</b>\n",
    "<span style=\"font-size:16px;\">  Customer churn is defined as when customers or subscribers discontinue doing business with a firm or service. </span>\n",
    "\n",
    "<span style=\"font-size:16px;\"> Customers in the telecom industry can choose from a variety of service providers and actively switch from one to the next. The telecommunications business has an annual churn rate of 15-25 percent in this highly competitive market.</span>\n",
    "\n",
    "<span style=\"font-size:16px;\"> Individualized customer retention is tough because most firms have a large number of customers and can't afford to devote much time to each of them. The costs would be too great, outweighing the additional revenue. However, if a corporation could forecast which customers are likely to leave ahead of time, it could focus customer retention efforts only on these \"high risk\" clients. The ultimate goal is to expand its coverage area and retrieve more\n",
    "customers loyalty. The core to succeed in this market lies in the customer itself. \n",
    "</span>\n",
    "\n",
    "<span style=\"font-size:16px;\"> Customer churn is a critical metric because it is much less expensive to retain existing customers than it is to acquire new customers.</span>\n",
    "\n",
    "<a id=\"churn\"></a>\n",
    "<a id = \"3\" ></a>\n",
    "\n",
    "<span style=\"font-size:16px;\"><b>To reduce customer churn, telecom companies need to predict which customers are at high risk of churn.</b></span> \n",
    "\n",
    "<span style=\"font-size:16px;\"> To detect early signs of potential churn, one must first develop a holistic view of the customers and their interactions across numerous channels, including store/branch visits, product purchase histories, customer service calls, Web-based transactions, and social media interactions, to mention a few. </span> \n",
    "\n",
    "<span style=\"font-size:16px;\">As a result, by addressing churn, these businesses may not only preserve their market position, but also grow and thrive. More customers they have in their network, the lower the cost of initiation and the larger the profit. As a result, the company's key focus for success is reducing client attrition and implementing effective retention strategy. </span> \n",
    "<a id=\"reduce\"></a>\n",
    "\n",
    "<a id = \"4\" ></a>\n",
    "#### <b> Objectives</b>\n",
    "I will explore the data and try to answer some questions like:\n",
    "* What's the % of Churn Customers and customers that keep in with the active services?\n",
    "* Is there any patterns in Churn Customers based on the gender?\n",
    "* Is there any patterns/preference in Churn Customers based on the type of service provided?\n",
    "* What's the most profitable service types?\n",
    "* Which features and services are most profitable?\n",
    "* Many more questions that will arise during the analysis\n",
    "<a id=\"objective\"></a>"
   ]
  },
  {
   "cell_type": "markdown",
   "metadata": {},
   "source": [
    "___"
   ]
  },
  {
   "cell_type": "markdown",
   "metadata": {},
   "source": [
    "<a id = \"5\" ></a>\n",
    "# <span style=\"font-family:serif; font-size:28px;\"> 2. Loading libraries and data</span>\n",
    "<a id=\"loading\"></a>"
   ]
  },
  {
   "cell_type": "code",
   "execution_count": null,
   "metadata": {
    "_cell_guid": "b1076dfc-b9ad-4769-8c92-a6c4dae69d19",
    "_uuid": "8f2839f25d086af736a60e9eeb907d3b93b6e0e5",
    "execution": {
     "iopub.execute_input": "2021-06-29T08:55:19.91328Z",
     "iopub.status.busy": "2021-06-29T08:55:19.912773Z",
     "iopub.status.idle": "2021-06-29T08:55:22.282914Z",
     "shell.execute_reply": "2021-06-29T08:55:22.282094Z",
     "shell.execute_reply.started": "2021-06-29T08:55:19.913161Z"
    }
   },
   "outputs": [],
   "source": [
    "import pandas as pd\n",
    "import numpy as np\n",
    "import missingno as msno\n",
    "import matplotlib.pyplot as plt\n",
    "import seaborn as sns\n",
    "import plotly.express as px\n",
    "import plotly.graph_objects as go\n",
    "from plotly.subplots import make_subplots\n",
    "import warnings\n",
    "warnings.filterwarnings('ignore')"
   ]
  },
  {
   "cell_type": "code",
   "execution_count": null,
   "metadata": {
    "execution": {
     "iopub.execute_input": "2021-06-29T08:55:22.284462Z",
     "iopub.status.busy": "2021-06-29T08:55:22.284078Z",
     "iopub.status.idle": "2021-06-29T08:55:22.963803Z",
     "shell.execute_reply": "2021-06-29T08:55:22.963064Z",
     "shell.execute_reply.started": "2021-06-29T08:55:22.284433Z"
    }
   },
   "outputs": [],
   "source": [
    "from sklearn.preprocessing import StandardScaler\n",
    "from sklearn.preprocessing import LabelEncoder\n",
    "\n",
    "from sklearn.tree import DecisionTreeClassifier\n",
    "from sklearn.ensemble import RandomForestClassifier\n",
    "from sklearn.naive_bayes import GaussianNB\n",
    "from sklearn.neighbors import KNeighborsClassifier\n",
    "from sklearn.svm import SVC\n",
    "from sklearn.neural_network import MLPClassifier\n",
    "from sklearn.ensemble import AdaBoostClassifier\n",
    "from sklearn.ensemble import GradientBoostingClassifier\n",
    "from sklearn.ensemble import ExtraTreesClassifier\n",
    "from sklearn.linear_model import LogisticRegression\n",
    "from sklearn.model_selection import train_test_split\n",
    "from sklearn.metrics import accuracy_score\n",
    "from xgboost import XGBClassifier\n",
    "from catboost import CatBoostClassifier\n",
    "from sklearn import metrics\n",
    "from sklearn.metrics import roc_curve\n",
    "from sklearn.metrics import recall_score, confusion_matrix, precision_score, f1_score, accuracy_score, classification_report"
   ]
  },
  {
   "cell_type": "code",
   "execution_count": null,
   "metadata": {
    "execution": {
     "iopub.execute_input": "2021-06-29T08:55:22.965683Z",
     "iopub.status.busy": "2021-06-29T08:55:22.965284Z",
     "iopub.status.idle": "2021-06-29T08:55:23.023292Z",
     "shell.execute_reply": "2021-06-29T08:55:23.022227Z",
     "shell.execute_reply.started": "2021-06-29T08:55:22.965654Z"
    }
   },
   "outputs": [],
   "source": [
    "#loading data\n",
    "df = pd.read_csv('../input/telco-customer-churn/WA_Fn-UseC_-Telco-Customer-Churn.csv')"
   ]
  },
  {
   "cell_type": "markdown",
   "metadata": {},
   "source": [
    "<a id = \"6\" ></a>\n",
    "# <span style=\"font-family:serif; font-size:28px;\"> 3. Undertanding the data</span>\n",
    "<a id = \"Undertanding the data\" ></a>"
   ]
  },
  {
   "cell_type": "markdown",
   "metadata": {
    "execution": {
     "iopub.execute_input": "2021-06-15T05:44:20.072466Z",
     "iopub.status.busy": "2021-06-15T05:44:20.072025Z",
     "iopub.status.idle": "2021-06-15T05:44:20.084216Z",
     "shell.execute_reply": "2021-06-15T05:44:20.083141Z",
     "shell.execute_reply.started": "2021-06-15T05:44:20.072376Z"
    }
   },
   "source": [
    "Each row represents a customer, each column contains customer’s attributes described on the column Metadata."
   ]
  },
  {
   "cell_type": "code",
   "execution_count": null,
   "metadata": {
    "execution": {
     "iopub.execute_input": "2021-06-29T08:55:23.025123Z",
     "iopub.status.busy": "2021-06-29T08:55:23.024819Z",
     "iopub.status.idle": "2021-06-29T08:55:23.071164Z",
     "shell.execute_reply": "2021-06-29T08:55:23.070437Z",
     "shell.execute_reply.started": "2021-06-29T08:55:23.025094Z"
    }
   },
   "outputs": [],
   "source": [
    "df.head()"
   ]
  },
  {
   "cell_type": "markdown",
   "metadata": {},
   "source": [
    "**The data set includes information about:**\n",
    "* **Customers who left within the last month** – the column is called Churn\n",
    "\n",
    "* **Services that each customer has signed up for** – phone, multiple lines, internet, online security, online backup, device protection, tech support, and streaming TV and movies\n",
    "\n",
    "* **Customer account information** - how long they’ve been a customer, contract, payment method, paperless billing, monthly charges, and total charges\n",
    "\n",
    "* **Demographic info about customers** – gender, age range, and if they have partners and dependents"
   ]
  },
  {
   "cell_type": "code",
   "execution_count": null,
   "metadata": {
    "execution": {
     "iopub.execute_input": "2021-06-29T08:55:23.072815Z",
     "iopub.status.busy": "2021-06-29T08:55:23.07234Z",
     "iopub.status.idle": "2021-06-29T08:55:23.077367Z",
     "shell.execute_reply": "2021-06-29T08:55:23.076705Z",
     "shell.execute_reply.started": "2021-06-29T08:55:23.072763Z"
    }
   },
   "outputs": [],
   "source": [
    "df.shape"
   ]
  },
  {
   "cell_type": "code",
   "execution_count": null,
   "metadata": {
    "execution": {
     "iopub.execute_input": "2021-06-29T08:55:23.078888Z",
     "iopub.status.busy": "2021-06-29T08:55:23.078451Z",
     "iopub.status.idle": "2021-06-29T08:55:23.121703Z",
     "shell.execute_reply": "2021-06-29T08:55:23.120726Z",
     "shell.execute_reply.started": "2021-06-29T08:55:23.078824Z"
    }
   },
   "outputs": [],
   "source": [
    "df.info()"
   ]
  },
  {
   "cell_type": "code",
   "execution_count": null,
   "metadata": {
    "execution": {
     "iopub.execute_input": "2021-06-29T08:55:23.123249Z",
     "iopub.status.busy": "2021-06-29T08:55:23.122802Z",
     "iopub.status.idle": "2021-06-29T08:55:23.128892Z",
     "shell.execute_reply": "2021-06-29T08:55:23.127837Z",
     "shell.execute_reply.started": "2021-06-29T08:55:23.123211Z"
    }
   },
   "outputs": [],
   "source": [
    "df.columns.values"
   ]
  },
  {
   "cell_type": "code",
   "execution_count": null,
   "metadata": {
    "execution": {
     "iopub.execute_input": "2021-06-29T08:55:23.130729Z",
     "iopub.status.busy": "2021-06-29T08:55:23.130304Z",
     "iopub.status.idle": "2021-06-29T08:55:23.144964Z",
     "shell.execute_reply": "2021-06-29T08:55:23.143831Z",
     "shell.execute_reply.started": "2021-06-29T08:55:23.130697Z"
    }
   },
   "outputs": [],
   "source": [
    "df.dtypes"
   ]
  },
  {
   "cell_type": "markdown",
   "metadata": {},
   "source": [
    "<a id = \"7\" ></a>\n",
    "# <span style=\"font-family:serif; font-size:28px;\"> 4. Visualize missing values </span>\n",
    "<a id = \"missingvalue\" ></a>"
   ]
  },
  {
   "cell_type": "code",
   "execution_count": null,
   "metadata": {
    "execution": {
     "iopub.execute_input": "2021-06-29T08:55:23.148365Z",
     "iopub.status.busy": "2021-06-29T08:55:23.148026Z",
     "iopub.status.idle": "2021-06-29T08:55:23.761728Z",
     "shell.execute_reply": "2021-06-29T08:55:23.760764Z",
     "shell.execute_reply.started": "2021-06-29T08:55:23.148328Z"
    }
   },
   "outputs": [],
   "source": [
    "# Visualize missing values as a matrix\n",
    "msno.matrix(df);"
   ]
  },
  {
   "cell_type": "markdown",
   "metadata": {},
   "source": [
    "> Using this matrix we can very quickly find the pattern of missingness in the dataset. \n",
    "* From the above visualisation we can observe that it has no peculiar pattern that stands out. In fact there is no missing data."
   ]
  },
  {
   "cell_type": "markdown",
   "metadata": {},
   "source": [
    "<a id = \"8\" ></a>\n",
    "# <span style=\"font-family:serif; font-size:28px;\"> 5. Data Manipulation </span>\n",
    "<a id = \"8\" ></a>"
   ]
  },
  {
   "cell_type": "code",
   "execution_count": null,
   "metadata": {
    "execution": {
     "iopub.execute_input": "2021-06-29T08:55:23.763764Z",
     "iopub.status.busy": "2021-06-29T08:55:23.76348Z",
     "iopub.status.idle": "2021-06-29T08:55:23.790299Z",
     "shell.execute_reply": "2021-06-29T08:55:23.789274Z",
     "shell.execute_reply.started": "2021-06-29T08:55:23.763736Z"
    }
   },
   "outputs": [],
   "source": [
    "df = df.drop(['customerID'], axis = 1)\n",
    "df.head()"
   ]
  },
  {
   "cell_type": "markdown",
   "metadata": {},
   "source": [
    "* On deep analysis, we can find some indirect missingness in our data (which can be in form of blankspaces). Let's see that!"
   ]
  },
  {
   "cell_type": "code",
   "execution_count": null,
   "metadata": {
    "execution": {
     "iopub.execute_input": "2021-06-29T08:55:23.792Z",
     "iopub.status.busy": "2021-06-29T08:55:23.791639Z",
     "iopub.status.idle": "2021-06-29T08:55:23.822887Z",
     "shell.execute_reply": "2021-06-29T08:55:23.822083Z",
     "shell.execute_reply.started": "2021-06-29T08:55:23.791927Z"
    }
   },
   "outputs": [],
   "source": [
    "df['TotalCharges'] = pd.to_numeric(df.TotalCharges, errors='coerce')\n",
    "df.isnull().sum()"
   ]
  },
  {
   "cell_type": "markdown",
   "metadata": {},
   "source": [
    "* Here we see that the TotalCharges has 11 missing values. Let's check this data."
   ]
  },
  {
   "cell_type": "code",
   "execution_count": null,
   "metadata": {
    "execution": {
     "iopub.execute_input": "2021-06-29T08:55:23.824492Z",
     "iopub.status.busy": "2021-06-29T08:55:23.82422Z",
     "iopub.status.idle": "2021-06-29T08:55:23.854572Z",
     "shell.execute_reply": "2021-06-29T08:55:23.853925Z",
     "shell.execute_reply.started": "2021-06-29T08:55:23.824465Z"
    }
   },
   "outputs": [],
   "source": [
    "df[np.isnan(df['TotalCharges'])]"
   ]
  },
  {
   "cell_type": "markdown",
   "metadata": {},
   "source": [
    "* It can also be noted that the Tenure column is 0 for these entries even though the MonthlyCharges column is not empty.\n",
    "\n",
    "Let's see if there are any other 0 values in the tenure column."
   ]
  },
  {
   "cell_type": "code",
   "execution_count": null,
   "metadata": {
    "execution": {
     "iopub.execute_input": "2021-06-29T08:55:23.856147Z",
     "iopub.status.busy": "2021-06-29T08:55:23.855642Z",
     "iopub.status.idle": "2021-06-29T08:55:23.877464Z",
     "shell.execute_reply": "2021-06-29T08:55:23.87678Z",
     "shell.execute_reply.started": "2021-06-29T08:55:23.856114Z"
    }
   },
   "outputs": [],
   "source": [
    "df[df['tenure'] == 0].index"
   ]
  },
  {
   "cell_type": "markdown",
   "metadata": {},
   "source": [
    "* There are no additional missing values in the Tenure column. \n",
    "\n",
    "Let's delete the rows with missing values in Tenure columns since there are only 11 rows and deleting them will not affect the data."
   ]
  },
  {
   "cell_type": "code",
   "execution_count": null,
   "metadata": {
    "execution": {
     "iopub.execute_input": "2021-06-29T08:55:23.879013Z",
     "iopub.status.busy": "2021-06-29T08:55:23.878567Z",
     "iopub.status.idle": "2021-06-29T08:55:23.8896Z",
     "shell.execute_reply": "2021-06-29T08:55:23.88859Z",
     "shell.execute_reply.started": "2021-06-29T08:55:23.878972Z"
    }
   },
   "outputs": [],
   "source": [
    "df.drop(labels=df[df['tenure'] == 0].index, axis=0, inplace=True)\n",
    "df[df['tenure'] == 0].index"
   ]
  },
  {
   "cell_type": "code",
   "execution_count": null,
   "metadata": {
    "execution": {
     "iopub.execute_input": "2021-06-29T08:55:23.891552Z",
     "iopub.status.busy": "2021-06-29T08:55:23.891131Z",
     "iopub.status.idle": "2021-06-29T08:55:23.943367Z",
     "shell.execute_reply": "2021-06-29T08:55:23.942385Z",
     "shell.execute_reply.started": "2021-06-29T08:55:23.891496Z"
    }
   },
   "outputs": [],
   "source": [
    "df.fillna(df[\"TotalCharges\"].mean())"
   ]
  },
  {
   "cell_type": "code",
   "execution_count": null,
   "metadata": {
    "execution": {
     "iopub.execute_input": "2021-06-29T08:55:23.945261Z",
     "iopub.status.busy": "2021-06-29T08:55:23.944842Z",
     "iopub.status.idle": "2021-06-29T08:55:23.965089Z",
     "shell.execute_reply": "2021-06-29T08:55:23.964058Z",
     "shell.execute_reply.started": "2021-06-29T08:55:23.945218Z"
    }
   },
   "outputs": [],
   "source": [
    "df.isnull().sum()"
   ]
  },
  {
   "cell_type": "code",
   "execution_count": null,
   "metadata": {
    "execution": {
     "iopub.execute_input": "2021-06-29T08:55:23.96682Z",
     "iopub.status.busy": "2021-06-29T08:55:23.966274Z",
     "iopub.status.idle": "2021-06-29T08:55:23.999271Z",
     "shell.execute_reply": "2021-06-29T08:55:23.998239Z",
     "shell.execute_reply.started": "2021-06-29T08:55:23.966777Z"
    }
   },
   "outputs": [],
   "source": [
    "df[\"SeniorCitizen\"]= df[\"SeniorCitizen\"].map({0: \"No\", 1: \"Yes\"})\n",
    "df.head()"
   ]
  },
  {
   "cell_type": "code",
   "execution_count": null,
   "metadata": {
    "execution": {
     "iopub.execute_input": "2021-06-29T08:55:24.00092Z",
     "iopub.status.busy": "2021-06-29T08:55:24.000567Z",
     "iopub.status.idle": "2021-06-29T08:55:24.012825Z",
     "shell.execute_reply": "2021-06-29T08:55:24.011941Z",
     "shell.execute_reply.started": "2021-06-29T08:55:24.000825Z"
    }
   },
   "outputs": [],
   "source": [
    "df[\"InternetService\"].describe(include=['object', 'bool'])"
   ]
  },
  {
   "cell_type": "code",
   "execution_count": null,
   "metadata": {
    "execution": {
     "iopub.execute_input": "2021-06-29T08:55:24.014603Z",
     "iopub.status.busy": "2021-06-29T08:55:24.014193Z",
     "iopub.status.idle": "2021-06-29T08:55:24.048744Z",
     "shell.execute_reply": "2021-06-29T08:55:24.047693Z",
     "shell.execute_reply.started": "2021-06-29T08:55:24.014572Z"
    }
   },
   "outputs": [],
   "source": [
    "numerical_cols = ['tenure', 'MonthlyCharges', 'TotalCharges']\n",
    "df[numerical_cols].describe()"
   ]
  },
  {
   "cell_type": "markdown",
   "metadata": {},
   "source": [
    "<a id = \"9\" ></a>\n",
    "# <span style=\"font-family:serif; font-size:28px;\"> 6. Data Visualization </span>\n",
    "<a id = \"datavisualization\" ></a>"
   ]
  },
  {
   "cell_type": "code",
   "execution_count": null,
   "metadata": {
    "_kg_hide-input": true,
    "execution": {
     "iopub.execute_input": "2021-06-29T08:55:24.050877Z",
     "iopub.status.busy": "2021-06-29T08:55:24.050434Z",
     "iopub.status.idle": "2021-06-29T08:55:24.332832Z",
     "shell.execute_reply": "2021-06-29T08:55:24.331583Z",
     "shell.execute_reply.started": "2021-06-29T08:55:24.050806Z"
    }
   },
   "outputs": [],
   "source": [
    "g_labels = ['Male', 'Female']\n",
    "c_labels = ['No', 'Yes']\n",
    "# Create subplots: use 'domain' type for Pie subplot\n",
    "fig = make_subplots(rows=1, cols=2, specs=[[{'type':'domain'}, {'type':'domain'}]])\n",
    "fig.add_trace(go.Pie(labels=g_labels, values=df['gender'].value_counts(), name=\"Gender\"),\n",
    "              1, 1)\n",
    "fig.add_trace(go.Pie(labels=c_labels, values=df['Churn'].value_counts(), name=\"Churn\"),\n",
    "              1, 2)\n",
    "\n",
    "# Use `hole` to create a donut-like pie chart\n",
    "fig.update_traces(hole=.4, hoverinfo=\"label+percent+name\", textfont_size=16)\n",
    "\n",
    "fig.update_layout(\n",
    "    title_text=\"Gender and Churn Distributions\",\n",
    "    # Add annotations in the center of the donut pies.\n",
    "    annotations=[dict(text='Gender', x=0.16, y=0.5, font_size=20, showarrow=False),\n",
    "                 dict(text='Churn', x=0.84, y=0.5, font_size=20, showarrow=False)])\n",
    "fig.show()"
   ]
  },
  {
   "cell_type": "markdown",
   "metadata": {},
   "source": [
    "* 26.6 % of customers switched to another firm.\n",
    "* Customers are 49.5 % female and 50.5 % male."
   ]
  },
  {
   "cell_type": "code",
   "execution_count": null,
   "metadata": {
    "_kg_hide-input": true,
    "_kg_hide-output": true,
    "execution": {
     "iopub.execute_input": "2021-06-29T08:55:24.334902Z",
     "iopub.status.busy": "2021-06-29T08:55:24.33446Z",
     "iopub.status.idle": "2021-06-29T08:55:24.349432Z",
     "shell.execute_reply": "2021-06-29T08:55:24.348468Z",
     "shell.execute_reply.started": "2021-06-29T08:55:24.334833Z"
    }
   },
   "outputs": [],
   "source": [
    "df[\"Churn\"][df[\"Churn\"]==\"No\"].groupby(by=df[\"gender\"]).count()"
   ]
  },
  {
   "cell_type": "code",
   "execution_count": null,
   "metadata": {
    "_kg_hide-input": true,
    "_kg_hide-output": true,
    "execution": {
     "iopub.execute_input": "2021-06-29T08:55:24.351537Z",
     "iopub.status.busy": "2021-06-29T08:55:24.35085Z",
     "iopub.status.idle": "2021-06-29T08:55:24.364731Z",
     "shell.execute_reply": "2021-06-29T08:55:24.363904Z",
     "shell.execute_reply.started": "2021-06-29T08:55:24.351494Z"
    }
   },
   "outputs": [],
   "source": [
    "df[\"Churn\"][df[\"Churn\"]==\"Yes\"].groupby(by=df[\"gender\"]).count()"
   ]
  },
  {
   "cell_type": "code",
   "execution_count": null,
   "metadata": {
    "_kg_hide-input": true,
    "execution": {
     "iopub.execute_input": "2021-06-29T08:55:24.366715Z",
     "iopub.status.busy": "2021-06-29T08:55:24.366074Z",
     "iopub.status.idle": "2021-06-29T08:55:24.588067Z",
     "shell.execute_reply": "2021-06-29T08:55:24.587015Z",
     "shell.execute_reply.started": "2021-06-29T08:55:24.366672Z"
    }
   },
   "outputs": [],
   "source": [
    "plt.figure(figsize=(6, 6))\n",
    "labels =[\"Churn: Yes\",\"Churn:No\"]\n",
    "values = [1869,5163]\n",
    "labels_gender = [\"F\",\"M\",\"F\",\"M\"]\n",
    "sizes_gender = [939,930 , 2544,2619]\n",
    "colors = ['#ff6666', '#66b3ff']\n",
    "colors_gender = ['#c2c2f0','#ffb3e6', '#c2c2f0','#ffb3e6']\n",
    "explode = (0.3,0.3) \n",
    "explode_gender = (0.1,0.1,0.1,0.1)\n",
    "textprops = {\"fontsize\":15}\n",
    "#Plot\n",
    "plt.pie(values, labels=labels,autopct='%1.1f%%',pctdistance=1.08, labeldistance=0.8,colors=colors, startangle=90,frame=True, explode=explode,radius=10, textprops =textprops, counterclock = True, )\n",
    "plt.pie(sizes_gender,labels=labels_gender,colors=colors_gender,startangle=90, explode=explode_gender,radius=7, textprops =textprops, counterclock = True, )\n",
    "#Draw circle\n",
    "centre_circle = plt.Circle((0,0),5,color='black', fc='white',linewidth=0)\n",
    "fig = plt.gcf()\n",
    "fig.gca().add_artist(centre_circle)\n",
    "\n",
    "plt.title('Churn Distribution w.r.t Gender: Male(M), Female(F)', fontsize=15, y=1.1)\n",
    "\n",
    "# show plot \n",
    " \n",
    "plt.axis('equal')\n",
    "plt.tight_layout()\n",
    "plt.show()"
   ]
  },
  {
   "cell_type": "markdown",
   "metadata": {},
   "source": [
    "* There is negligible difference in customer percentage/ count who chnaged the service provider. Both genders behaved in similar fashion when it comes to migrating to another service provider/firm."
   ]
  },
  {
   "cell_type": "code",
   "execution_count": null,
   "metadata": {
    "_kg_hide-input": true,
    "execution": {
     "iopub.execute_input": "2021-06-29T08:55:24.589812Z",
     "iopub.status.busy": "2021-06-29T08:55:24.589393Z",
     "iopub.status.idle": "2021-06-29T08:55:25.676055Z",
     "shell.execute_reply": "2021-06-29T08:55:25.674906Z",
     "shell.execute_reply.started": "2021-06-29T08:55:24.589768Z"
    }
   },
   "outputs": [],
   "source": [
    "fig = px.histogram(df, x=\"Churn\", color=\"Contract\", barmode=\"group\", title=\"<b>Customer contract distribution<b>\")\n",
    "fig.update_layout(width=700, height=500, bargap=0.1)\n",
    "fig.show()"
   ]
  },
  {
   "cell_type": "markdown",
   "metadata": {},
   "source": [
    "* About 75% of customer with Month-to-Month Contract opted to move out as compared to 13% of customrs with One Year Contract and 3% with Two Year Contract"
   ]
  },
  {
   "cell_type": "code",
   "execution_count": null,
   "metadata": {
    "_kg_hide-input": true,
    "execution": {
     "iopub.execute_input": "2021-06-29T08:55:25.677623Z",
     "iopub.status.busy": "2021-06-29T08:55:25.67731Z",
     "iopub.status.idle": "2021-06-29T08:55:25.693794Z",
     "shell.execute_reply": "2021-06-29T08:55:25.692791Z",
     "shell.execute_reply.started": "2021-06-29T08:55:25.677594Z"
    }
   },
   "outputs": [],
   "source": [
    "labels = df['PaymentMethod'].unique()\n",
    "values = df['PaymentMethod'].value_counts()\n",
    "\n",
    "fig = go.Figure(data=[go.Pie(labels=labels, values=values, hole=.3)])\n",
    "fig.update_layout(title_text=\"<b>Payment Method Distribution</b>\")\n",
    "fig.show()"
   ]
  },
  {
   "cell_type": "code",
   "execution_count": null,
   "metadata": {
    "_kg_hide-input": true,
    "execution": {
     "iopub.execute_input": "2021-06-29T08:55:25.69552Z",
     "iopub.status.busy": "2021-06-29T08:55:25.69523Z",
     "iopub.status.idle": "2021-06-29T08:55:25.824115Z",
     "shell.execute_reply": "2021-06-29T08:55:25.822987Z",
     "shell.execute_reply.started": "2021-06-29T08:55:25.695493Z"
    }
   },
   "outputs": [],
   "source": [
    "fig = px.histogram(df, x=\"Churn\", color=\"PaymentMethod\", title=\"<b>Customer Payment Method distribution w.r.t. Churn</b>\")\n",
    "fig.update_layout(width=700, height=500, bargap=0.1)\n",
    "fig.show()"
   ]
  },
  {
   "cell_type": "markdown",
   "metadata": {},
   "source": [
    "* Major customers who moved out were having Electronic Check as Payment Method.\n",
    "* Customers who opted for Credit-Card automatic transfer or Bank Automatic Transfer and Mailed Check as Payment Method were less likely to move out.  "
   ]
  },
  {
   "cell_type": "code",
   "execution_count": null,
   "metadata": {
    "_kg_hide-input": true,
    "_kg_hide-output": true,
    "execution": {
     "iopub.execute_input": "2021-06-29T08:55:25.831733Z",
     "iopub.status.busy": "2021-06-29T08:55:25.831071Z",
     "iopub.status.idle": "2021-06-29T08:55:25.839649Z",
     "shell.execute_reply": "2021-06-29T08:55:25.838535Z",
     "shell.execute_reply.started": "2021-06-29T08:55:25.831685Z"
    }
   },
   "outputs": [],
   "source": [
    "df[\"InternetService\"].unique()"
   ]
  },
  {
   "cell_type": "code",
   "execution_count": null,
   "metadata": {
    "_kg_hide-input": true,
    "_kg_hide-output": true,
    "execution": {
     "iopub.execute_input": "2021-06-29T08:55:25.842558Z",
     "iopub.status.busy": "2021-06-29T08:55:25.84227Z",
     "iopub.status.idle": "2021-06-29T08:55:25.863202Z",
     "shell.execute_reply": "2021-06-29T08:55:25.862028Z",
     "shell.execute_reply.started": "2021-06-29T08:55:25.84253Z"
    }
   },
   "outputs": [],
   "source": [
    " df[df[\"gender\"]==\"Male\"][[\"InternetService\", \"Churn\"]].value_counts()"
   ]
  },
  {
   "cell_type": "code",
   "execution_count": null,
   "metadata": {
    "_kg_hide-input": true,
    "_kg_hide-output": true,
    "execution": {
     "iopub.execute_input": "2021-06-29T08:55:25.864756Z",
     "iopub.status.busy": "2021-06-29T08:55:25.864461Z",
     "iopub.status.idle": "2021-06-29T08:55:25.880723Z",
     "shell.execute_reply": "2021-06-29T08:55:25.879398Z",
     "shell.execute_reply.started": "2021-06-29T08:55:25.864726Z"
    }
   },
   "outputs": [],
   "source": [
    "df[df[\"gender\"]==\"Female\"][[\"InternetService\", \"Churn\"]].value_counts()"
   ]
  },
  {
   "cell_type": "code",
   "execution_count": null,
   "metadata": {
    "_kg_hide-input": true,
    "execution": {
     "iopub.execute_input": "2021-06-29T08:55:25.883034Z",
     "iopub.status.busy": "2021-06-29T08:55:25.882443Z",
     "iopub.status.idle": "2021-06-29T08:55:25.905513Z",
     "shell.execute_reply": "2021-06-29T08:55:25.904261Z",
     "shell.execute_reply.started": "2021-06-29T08:55:25.882986Z"
    }
   },
   "outputs": [],
   "source": [
    "fig = go.Figure()\n",
    "\n",
    "fig.add_trace(go.Bar(\n",
    "  x = [['Churn:No', 'Churn:No', 'Churn:Yes', 'Churn:Yes'],\n",
    "       [\"Female\", \"Male\", \"Female\", \"Male\"]],\n",
    "  y = [965, 992, 219, 240],\n",
    "  name = 'DSL',\n",
    "))\n",
    "\n",
    "fig.add_trace(go.Bar(\n",
    "  x = [['Churn:No', 'Churn:No', 'Churn:Yes', 'Churn:Yes'],\n",
    "       [\"Female\", \"Male\", \"Female\", \"Male\"]],\n",
    "  y = [889, 910, 664, 633],\n",
    "  name = 'Fiber optic',\n",
    "))\n",
    "\n",
    "fig.add_trace(go.Bar(\n",
    "  x = [['Churn:No', 'Churn:No', 'Churn:Yes', 'Churn:Yes'],\n",
    "       [\"Female\", \"Male\", \"Female\", \"Male\"]],\n",
    "  y = [690, 717, 56, 57],\n",
    "  name = 'No Internet',\n",
    "))\n",
    "\n",
    "fig.update_layout(title_text=\"<b>Churn Distribution w.r.t. Internet Service and Gender</b>\")\n",
    "\n",
    "fig.show()"
   ]
  },
  {
   "cell_type": "markdown",
   "metadata": {},
   "source": [
    "* A lot of customers choose the Fiber optic service and it's also evident that the customers who use Fiber optic have high churn rate, this might suggest a dissatisfaction with this type of internet service.\n",
    "* Customers having DSL service are majority in number and have less churn rate compared to Fibre optic service."
   ]
  },
  {
   "cell_type": "code",
   "execution_count": null,
   "metadata": {
    "_kg_hide-input": true,
    "execution": {
     "iopub.execute_input": "2021-06-29T08:55:25.908003Z",
     "iopub.status.busy": "2021-06-29T08:55:25.907426Z",
     "iopub.status.idle": "2021-06-29T08:55:26.031946Z",
     "shell.execute_reply": "2021-06-29T08:55:26.031019Z",
     "shell.execute_reply.started": "2021-06-29T08:55:25.907958Z"
    }
   },
   "outputs": [],
   "source": [
    "color_map = {\"Yes\": \"#FF97FF\", \"No\": \"#AB63FA\"}\n",
    "fig = px.histogram(df, x=\"Churn\", color=\"Dependents\", barmode=\"group\", title=\"<b>Dependents distribution</b>\", color_discrete_map=color_map)\n",
    "fig.update_layout(width=700, height=500, bargap=0.1)\n",
    "fig.show()"
   ]
  },
  {
   "cell_type": "markdown",
   "metadata": {},
   "source": [
    "* Customers without dependents are more likely to churn"
   ]
  },
  {
   "cell_type": "code",
   "execution_count": null,
   "metadata": {
    "_kg_hide-input": true,
    "execution": {
     "iopub.execute_input": "2021-06-29T08:55:26.033538Z",
     "iopub.status.busy": "2021-06-29T08:55:26.033256Z",
     "iopub.status.idle": "2021-06-29T08:55:26.153342Z",
     "shell.execute_reply": "2021-06-29T08:55:26.152603Z",
     "shell.execute_reply.started": "2021-06-29T08:55:26.033511Z"
    }
   },
   "outputs": [],
   "source": [
    "color_map = {\"Yes\": '#FFA15A', \"No\": '#00CC96'}\n",
    "fig = px.histogram(df, x=\"Churn\", color=\"Partner\", barmode=\"group\", title=\"<b>Chrun distribution w.r.t. Partners</b>\", color_discrete_map=color_map)\n",
    "fig.update_layout(width=700, height=500, bargap=0.1)\n",
    "fig.show()"
   ]
  },
  {
   "cell_type": "markdown",
   "metadata": {},
   "source": [
    "* Customers that doesn't have partners are more likely to churn"
   ]
  },
  {
   "cell_type": "code",
   "execution_count": null,
   "metadata": {
    "_kg_hide-input": true,
    "execution": {
     "iopub.execute_input": "2021-06-29T08:55:26.154836Z",
     "iopub.status.busy": "2021-06-29T08:55:26.154403Z",
     "iopub.status.idle": "2021-06-29T08:55:26.274197Z",
     "shell.execute_reply": "2021-06-29T08:55:26.273283Z",
     "shell.execute_reply.started": "2021-06-29T08:55:26.154794Z"
    }
   },
   "outputs": [],
   "source": [
    "color_map = {\"Yes\": '#00CC96', \"No\": '#B6E880'}\n",
    "fig = px.histogram(df, x=\"Churn\", color=\"SeniorCitizen\", title=\"<b>Chrun distribution w.r.t. Senior Citizen</b>\", color_discrete_map=color_map)\n",
    "fig.update_layout(width=700, height=500, bargap=0.1)\n",
    "fig.show()"
   ]
  },
  {
   "cell_type": "markdown",
   "metadata": {},
   "source": [
    "* It can be observed that the fraction of senior citizen is very less.\n",
    "* Most of the senior citizens churn."
   ]
  },
  {
   "cell_type": "code",
   "execution_count": null,
   "metadata": {
    "_kg_hide-input": true,
    "execution": {
     "iopub.execute_input": "2021-06-29T08:55:26.275696Z",
     "iopub.status.busy": "2021-06-29T08:55:26.275399Z",
     "iopub.status.idle": "2021-06-29T08:55:26.400788Z",
     "shell.execute_reply": "2021-06-29T08:55:26.399694Z",
     "shell.execute_reply.started": "2021-06-29T08:55:26.275667Z"
    }
   },
   "outputs": [],
   "source": [
    "color_map = {\"Yes\": \"#FF97FF\", \"No\": \"#AB63FA\"}\n",
    "fig = px.histogram(df, x=\"Churn\", color=\"OnlineSecurity\", barmode=\"group\", title=\"<b>Churn w.r.t Online Security</b>\", color_discrete_map=color_map)\n",
    "fig.update_layout(width=700, height=500, bargap=0.1)\n",
    "fig.show()"
   ]
  },
  {
   "cell_type": "markdown",
   "metadata": {},
   "source": [
    "* Most customers churn in the absence of online security, "
   ]
  },
  {
   "cell_type": "code",
   "execution_count": null,
   "metadata": {
    "_kg_hide-input": true,
    "execution": {
     "iopub.execute_input": "2021-06-29T08:55:26.402719Z",
     "iopub.status.busy": "2021-06-29T08:55:26.402297Z",
     "iopub.status.idle": "2021-06-29T08:55:26.524957Z",
     "shell.execute_reply": "2021-06-29T08:55:26.52395Z",
     "shell.execute_reply.started": "2021-06-29T08:55:26.402672Z"
    }
   },
   "outputs": [],
   "source": [
    "color_map = {\"Yes\": '#FFA15A', \"No\": '#00CC96'}\n",
    "fig = px.histogram(df, x=\"Churn\", color=\"PaperlessBilling\",  title=\"<b>Chrun distribution w.r.t. Paperless Billing</b>\", color_discrete_map=color_map)\n",
    "fig.update_layout(width=700, height=500, bargap=0.1)\n",
    "fig.show()"
   ]
  },
  {
   "cell_type": "markdown",
   "metadata": {},
   "source": [
    "* Customers with Paperless Billing are most likely to churn."
   ]
  },
  {
   "cell_type": "code",
   "execution_count": null,
   "metadata": {
    "_kg_hide-input": true,
    "execution": {
     "iopub.execute_input": "2021-06-29T08:55:26.526254Z",
     "iopub.status.busy": "2021-06-29T08:55:26.525989Z",
     "iopub.status.idle": "2021-06-29T08:55:26.654832Z",
     "shell.execute_reply": "2021-06-29T08:55:26.653885Z",
     "shell.execute_reply.started": "2021-06-29T08:55:26.526228Z"
    }
   },
   "outputs": [],
   "source": [
    "fig = px.histogram(df, x=\"Churn\", color=\"TechSupport\",barmode=\"group\",  title=\"<b>Chrun distribution w.r.t. TechSupport</b>\")\n",
    "fig.update_layout(width=700, height=500, bargap=0.1)\n",
    "fig.show()"
   ]
  },
  {
   "cell_type": "markdown",
   "metadata": {},
   "source": [
    "* Customers with no TechSupport are most likely to migrate to another service provider."
   ]
  },
  {
   "cell_type": "code",
   "execution_count": null,
   "metadata": {
    "_kg_hide-input": true,
    "execution": {
     "iopub.execute_input": "2021-06-29T08:55:26.656482Z",
     "iopub.status.busy": "2021-06-29T08:55:26.656191Z",
     "iopub.status.idle": "2021-06-29T08:55:26.777537Z",
     "shell.execute_reply": "2021-06-29T08:55:26.776572Z",
     "shell.execute_reply.started": "2021-06-29T08:55:26.656452Z"
    }
   },
   "outputs": [],
   "source": [
    "color_map = {\"Yes\": '#00CC96', \"No\": '#B6E880'}\n",
    "fig = px.histogram(df, x=\"Churn\", color=\"PhoneService\", title=\"<b>Chrun distribution w.r.t. Phone Service</b>\", color_discrete_map=color_map)\n",
    "fig.update_layout(width=700, height=500, bargap=0.1)\n",
    "fig.show()"
   ]
  },
  {
   "cell_type": "markdown",
   "metadata": {},
   "source": [
    "* Very small fraction of customers don't have a phone service and out of that, 1/3rd Customers are more likely to churn."
   ]
  },
  {
   "cell_type": "code",
   "execution_count": null,
   "metadata": {
    "_kg_hide-input": true,
    "execution": {
     "iopub.execute_input": "2021-06-29T08:55:26.779136Z",
     "iopub.status.busy": "2021-06-29T08:55:26.77882Z",
     "iopub.status.idle": "2021-06-29T08:55:27.030602Z",
     "shell.execute_reply": "2021-06-29T08:55:27.02957Z",
     "shell.execute_reply.started": "2021-06-29T08:55:26.779105Z"
    }
   },
   "outputs": [],
   "source": [
    "sns.set_context(\"paper\",font_scale=1.1)\n",
    "ax = sns.kdeplot(df.MonthlyCharges[(df[\"Churn\"] == 'No') ],\n",
    "                color=\"Red\", shade = True);\n",
    "ax = sns.kdeplot(df.MonthlyCharges[(df[\"Churn\"] == 'Yes') ],\n",
    "                ax =ax, color=\"Blue\", shade= True);\n",
    "ax.legend([\"Not Churn\",\"Churn\"],loc='upper right');\n",
    "ax.set_ylabel('Density');\n",
    "ax.set_xlabel('Monthly Charges');\n",
    "ax.set_title('Distribution of monthly charges by churn');\n"
   ]
  },
  {
   "cell_type": "markdown",
   "metadata": {},
   "source": [
    "* Customers with higher Monthly Charges are also more likely to churn"
   ]
  },
  {
   "cell_type": "code",
   "execution_count": null,
   "metadata": {
    "_kg_hide-input": true,
    "execution": {
     "iopub.execute_input": "2021-06-29T08:55:27.0347Z",
     "iopub.status.busy": "2021-06-29T08:55:27.034373Z",
     "iopub.status.idle": "2021-06-29T08:55:27.254908Z",
     "shell.execute_reply": "2021-06-29T08:55:27.253983Z",
     "shell.execute_reply.started": "2021-06-29T08:55:27.034669Z"
    }
   },
   "outputs": [],
   "source": [
    "ax = sns.kdeplot(df.TotalCharges[(df[\"Churn\"] == 'No') ],\n",
    "                color=\"Gold\", shade = True);\n",
    "ax = sns.kdeplot(df.TotalCharges[(df[\"Churn\"] == 'Yes') ],\n",
    "                ax =ax, color=\"Green\", shade= True);\n",
    "ax.legend([\"Not Chu0rn\",\"Churn\"],loc='upper right');\n",
    "ax.set_ylabel('Density');\n",
    "ax.set_xlabel('Total Charges');\n",
    "ax.set_title('Distribution of total charges by churn');"
   ]
  },
  {
   "cell_type": "code",
   "execution_count": null,
   "metadata": {
    "_kg_hide-input": true,
    "execution": {
     "iopub.execute_input": "2021-06-29T08:55:27.257066Z",
     "iopub.status.busy": "2021-06-29T08:55:27.256739Z",
     "iopub.status.idle": "2021-06-29T08:55:27.422887Z",
     "shell.execute_reply": "2021-06-29T08:55:27.42188Z",
     "shell.execute_reply.started": "2021-06-29T08:55:27.257034Z"
    }
   },
   "outputs": [],
   "source": [
    "fig = px.box(df, x='Churn', y = 'tenure')\n",
    "\n",
    "# Update yaxis properties\n",
    "fig.update_yaxes(title_text='Tenure (Months)', row=1, col=1)\n",
    "# Update xaxis properties\n",
    "fig.update_xaxes(title_text='Churn', row=1, col=1)\n",
    "\n",
    "# Update size and title\n",
    "fig.update_layout(autosize=True, width=750, height=600,\n",
    "    title_font=dict(size=25, family='Courier'),\n",
    "    title='<b>Tenure vs Churn</b>',\n",
    ")\n",
    "\n",
    "fig.show()\n"
   ]
  },
  {
   "cell_type": "markdown",
   "metadata": {},
   "source": [
    "* New customers are more likely to churn"
   ]
  },
  {
   "cell_type": "code",
   "execution_count": null,
   "metadata": {
    "execution": {
     "iopub.execute_input": "2021-06-29T08:55:27.424386Z",
     "iopub.status.busy": "2021-06-29T08:55:27.424103Z",
     "iopub.status.idle": "2021-06-29T08:55:28.751198Z",
     "shell.execute_reply": "2021-06-29T08:55:28.750091Z",
     "shell.execute_reply.started": "2021-06-29T08:55:27.424358Z"
    }
   },
   "outputs": [],
   "source": [
    "plt.figure(figsize=(25, 10))\n",
    "\n",
    "corr = df.apply(lambda x: pd.factorize(x)[0]).corr()\n",
    "\n",
    "mask = np.triu(np.ones_like(corr, dtype=bool))\n",
    "\n",
    "ax = sns.heatmap(corr, mask=mask, xticklabels=corr.columns, yticklabels=corr.columns, annot=True, linewidths=.2, cmap='coolwarm', vmin=-1, vmax=1)"
   ]
  },
  {
   "cell_type": "markdown",
   "metadata": {},
   "source": [
    "<a id = \"10\" ></a>\n",
    "# <span style=\"font-family:serif; font-size:28px;\"> 7. Data Preprocessing</span>\n",
    "<a id = \"datapreprocessing\" ></a>"
   ]
  },
  {
   "cell_type": "markdown",
   "metadata": {},
   "source": [
    "<a id = \"1111\" ></a>\n",
    "#### **Splitting the data into train and test sets**\n",
    "<a id = \"Split\" ></a>"
   ]
  },
  {
   "cell_type": "code",
   "execution_count": null,
   "metadata": {
    "execution": {
     "iopub.execute_input": "2021-06-29T08:55:28.753213Z",
     "iopub.status.busy": "2021-06-29T08:55:28.752774Z",
     "iopub.status.idle": "2021-06-29T08:55:28.758543Z",
     "shell.execute_reply": "2021-06-29T08:55:28.757475Z",
     "shell.execute_reply.started": "2021-06-29T08:55:28.753167Z"
    }
   },
   "outputs": [],
   "source": [
    "def object_to_int(dataframe_series):\n",
    "    if dataframe_series.dtype=='object':\n",
    "        dataframe_series = LabelEncoder().fit_transform(dataframe_series)\n",
    "    return dataframe_series"
   ]
  },
  {
   "cell_type": "code",
   "execution_count": null,
   "metadata": {
    "execution": {
     "iopub.execute_input": "2021-06-29T08:55:28.761075Z",
     "iopub.status.busy": "2021-06-29T08:55:28.760307Z",
     "iopub.status.idle": "2021-06-29T08:55:28.834452Z",
     "shell.execute_reply": "2021-06-29T08:55:28.833378Z",
     "shell.execute_reply.started": "2021-06-29T08:55:28.761028Z"
    }
   },
   "outputs": [],
   "source": [
    "df = df.apply(lambda x: object_to_int(x))\n",
    "df.head()"
   ]
  },
  {
   "cell_type": "code",
   "execution_count": null,
   "metadata": {
    "execution": {
     "iopub.execute_input": "2021-06-29T08:55:28.836664Z",
     "iopub.status.busy": "2021-06-29T08:55:28.835992Z",
     "iopub.status.idle": "2021-06-29T08:55:28.859586Z",
     "shell.execute_reply": "2021-06-29T08:55:28.858822Z",
     "shell.execute_reply.started": "2021-06-29T08:55:28.836618Z"
    }
   },
   "outputs": [],
   "source": [
    "plt.figure(figsize=(14,7))\n",
    "df.corr()['Churn'].sort_values(ascending = False)"
   ]
  },
  {
   "cell_type": "code",
   "execution_count": null,
   "metadata": {
    "execution": {
     "iopub.execute_input": "2021-06-29T08:55:28.861503Z",
     "iopub.status.busy": "2021-06-29T08:55:28.860946Z",
     "iopub.status.idle": "2021-06-29T08:55:28.868545Z",
     "shell.execute_reply": "2021-06-29T08:55:28.867426Z",
     "shell.execute_reply.started": "2021-06-29T08:55:28.861461Z"
    }
   },
   "outputs": [],
   "source": [
    "X = df.drop(columns = ['Churn'])\n",
    "y = df['Churn'].values"
   ]
  },
  {
   "cell_type": "code",
   "execution_count": null,
   "metadata": {
    "execution": {
     "iopub.execute_input": "2021-06-29T08:55:28.870195Z",
     "iopub.status.busy": "2021-06-29T08:55:28.869874Z",
     "iopub.status.idle": "2021-06-29T08:55:28.890562Z",
     "shell.execute_reply": "2021-06-29T08:55:28.889564Z",
     "shell.execute_reply.started": "2021-06-29T08:55:28.870167Z"
    }
   },
   "outputs": [],
   "source": [
    "X_train, X_test, y_train, y_test = train_test_split(X,y,test_size = 0.30, random_state = 40, stratify=y)"
   ]
  },
  {
   "cell_type": "code",
   "execution_count": null,
   "metadata": {
    "execution": {
     "iopub.execute_input": "2021-06-29T08:55:28.892203Z",
     "iopub.status.busy": "2021-06-29T08:55:28.891895Z",
     "iopub.status.idle": "2021-06-29T08:55:28.897523Z",
     "shell.execute_reply": "2021-06-29T08:55:28.896587Z",
     "shell.execute_reply.started": "2021-06-29T08:55:28.892174Z"
    }
   },
   "outputs": [],
   "source": [
    "def distplot(feature, frame, color='r'):\n",
    "    plt.figure(figsize=(8,3))\n",
    "    plt.title(\"Distribution for {}\".format(feature))\n",
    "    ax = sns.distplot(frame[feature], color= color)"
   ]
  },
  {
   "cell_type": "code",
   "execution_count": null,
   "metadata": {
    "execution": {
     "iopub.execute_input": "2021-06-29T08:55:28.89922Z",
     "iopub.status.busy": "2021-06-29T08:55:28.898693Z",
     "iopub.status.idle": "2021-06-29T08:55:29.55484Z",
     "shell.execute_reply": "2021-06-29T08:55:29.554168Z",
     "shell.execute_reply.started": "2021-06-29T08:55:28.899191Z"
    }
   },
   "outputs": [],
   "source": [
    "num_cols = [\"tenure\", 'MonthlyCharges', 'TotalCharges']\n",
    "for feat in num_cols: distplot(feat, df)"
   ]
  },
  {
   "cell_type": "markdown",
   "metadata": {},
   "source": [
    "Since the numerical features are distributed over different value ranges, I will use standard scalar to scale them down to the same range."
   ]
  },
  {
   "cell_type": "markdown",
   "metadata": {},
   "source": [
    "<a id = \"111\" ></a>\n",
    "#### **Standardizing numeric attributes**\n",
    "<a id = \"Standardizing\" ></a>"
   ]
  },
  {
   "cell_type": "code",
   "execution_count": null,
   "metadata": {
    "execution": {
     "iopub.execute_input": "2021-06-29T08:55:29.556212Z",
     "iopub.status.busy": "2021-06-29T08:55:29.555816Z",
     "iopub.status.idle": "2021-06-29T08:55:30.351665Z",
     "shell.execute_reply": "2021-06-29T08:55:30.350459Z",
     "shell.execute_reply.started": "2021-06-29T08:55:29.556183Z"
    }
   },
   "outputs": [],
   "source": [
    "df_std = pd.DataFrame(StandardScaler().fit_transform(df[num_cols].astype('float64')),\n",
    "                       columns=num_cols)\n",
    "for feat in numerical_cols: distplot(feat, df_std, color='c')"
   ]
  },
  {
   "cell_type": "code",
   "execution_count": null,
   "metadata": {
    "execution": {
     "iopub.execute_input": "2021-06-29T08:55:30.353312Z",
     "iopub.status.busy": "2021-06-29T08:55:30.353018Z",
     "iopub.status.idle": "2021-06-29T08:55:30.357981Z",
     "shell.execute_reply": "2021-06-29T08:55:30.356952Z",
     "shell.execute_reply.started": "2021-06-29T08:55:30.353283Z"
    }
   },
   "outputs": [],
   "source": [
    "# Divide the columns into 3 categories, one ofor standardisation, one for label encoding and one for one hot encoding\n",
    "\n",
    "cat_cols_ohe =['PaymentMethod', 'Contract', 'InternetService'] # those that need one-hot encoding\n",
    "cat_cols_le = list(set(X_train.columns)- set(num_cols) - set(cat_cols_ohe)) #those that need label encoding"
   ]
  },
  {
   "cell_type": "code",
   "execution_count": null,
   "metadata": {
    "execution": {
     "iopub.execute_input": "2021-06-29T08:55:30.359698Z",
     "iopub.status.busy": "2021-06-29T08:55:30.359412Z",
     "iopub.status.idle": "2021-06-29T08:55:30.391197Z",
     "shell.execute_reply": "2021-06-29T08:55:30.390149Z",
     "shell.execute_reply.started": "2021-06-29T08:55:30.35967Z"
    }
   },
   "outputs": [],
   "source": [
    "scaler= StandardScaler()\n",
    "\n",
    "X_train[num_cols] = scaler.fit_transform(X_train[num_cols])\n",
    "X_test[num_cols] = scaler.transform(X_test[num_cols])"
   ]
  },
  {
   "cell_type": "markdown",
   "metadata": {},
   "source": [
    "<a id = \"11\" ></a>\n",
    "# <span style=\"font-family:serif; font-size:28px;\"> 8. Machine Learning Model Evaluations and Predictions</span>\n",
    "<a id = \"modelprediction\" ></a>"
   ]
  },
  {
   "cell_type": "markdown",
   "metadata": {},
   "source": [
    "<a id = \"101\" ></a>\n",
    "#### <b> KNN</b>\n",
    "<a id = \"knn\" ></a>"
   ]
  },
  {
   "cell_type": "code",
   "execution_count": null,
   "metadata": {
    "execution": {
     "iopub.execute_input": "2021-06-29T08:55:30.392806Z",
     "iopub.status.busy": "2021-06-29T08:55:30.392507Z",
     "iopub.status.idle": "2021-06-29T08:55:31.072301Z",
     "shell.execute_reply": "2021-06-29T08:55:31.071164Z",
     "shell.execute_reply.started": "2021-06-29T08:55:30.392776Z"
    }
   },
   "outputs": [],
   "source": [
    "knn_model = KNeighborsClassifier(n_neighbors = 11) \n",
    "knn_model.fit(X_train,y_train)\n",
    "predicted_y = knn_model.predict(X_test)\n",
    "accuracy_knn = knn_model.score(X_test,y_test)\n",
    "print(\"KNN accuracy:\",accuracy_knn)"
   ]
  },
  {
   "cell_type": "code",
   "execution_count": null,
   "metadata": {
    "execution": {
     "iopub.execute_input": "2021-06-29T08:56:22.232236Z",
     "iopub.status.busy": "2021-06-29T08:56:22.231829Z",
     "iopub.status.idle": "2021-06-29T08:56:22.245657Z",
     "shell.execute_reply": "2021-06-29T08:56:22.244266Z",
     "shell.execute_reply.started": "2021-06-29T08:56:22.232204Z"
    }
   },
   "outputs": [],
   "source": [
    "print(classification_report(y_test, predicted_y))"
   ]
  },
  {
   "cell_type": "markdown",
   "metadata": {},
   "source": [
    "<a id = \"102\" ></a>\n",
    "#### <b>SVC</b>\n",
    "<a id = \"svc\" ></a>"
   ]
  },
  {
   "cell_type": "code",
   "execution_count": null,
   "metadata": {
    "execution": {
     "iopub.execute_input": "2021-06-29T08:58:18.234742Z",
     "iopub.status.busy": "2021-06-29T08:58:18.234191Z",
     "iopub.status.idle": "2021-06-29T08:58:19.916363Z",
     "shell.execute_reply": "2021-06-29T08:58:19.91526Z",
     "shell.execute_reply.started": "2021-06-29T08:58:18.234695Z"
    }
   },
   "outputs": [],
   "source": [
    "svc_model = SVC(random_state = 1)\n",
    "svc_model.fit(X_train,y_train)\n",
    "predict_y = svc_model.predict(X_test)\n",
    "accuracy_svc = svc_model.score(X_test,y_test)\n",
    "print(\"SVM accuracy is :\",accuracy_svc)"
   ]
  },
  {
   "cell_type": "code",
   "execution_count": null,
   "metadata": {
    "execution": {
     "iopub.execute_input": "2021-06-29T08:58:26.683015Z",
     "iopub.status.busy": "2021-06-29T08:58:26.682624Z",
     "iopub.status.idle": "2021-06-29T08:58:26.696757Z",
     "shell.execute_reply": "2021-06-29T08:58:26.695311Z",
     "shell.execute_reply.started": "2021-06-29T08:58:26.682961Z"
    }
   },
   "outputs": [],
   "source": [
    "print(classification_report(y_test, predict_y))"
   ]
  },
  {
   "cell_type": "markdown",
   "metadata": {},
   "source": [
    "<a id = \"103\" ></a>\n",
    "#### <b> Random Forest</b>\n",
    "<a id = \"rf\" ></a>"
   ]
  },
  {
   "cell_type": "code",
   "execution_count": null,
   "metadata": {
    "execution": {
     "iopub.execute_input": "2021-06-29T08:55:32.341443Z",
     "iopub.status.busy": "2021-06-29T08:55:32.340726Z",
     "iopub.status.idle": "2021-06-29T08:55:34.742449Z",
     "shell.execute_reply": "2021-06-29T08:55:34.741335Z",
     "shell.execute_reply.started": "2021-06-29T08:55:32.341397Z"
    }
   },
   "outputs": [],
   "source": [
    "model_rf = RandomForestClassifier(n_estimators=500 , oob_score = True, n_jobs = -1,\n",
    "                                  random_state =50, max_features = \"auto\",\n",
    "                                  max_leaf_nodes = 30)\n",
    "model_rf.fit(X_train, y_train)\n",
    "\n",
    "# Make predictions\n",
    "prediction_test = model_rf.predict(X_test)\n",
    "print (metrics.accuracy_score(y_test, prediction_test))"
   ]
  },
  {
   "cell_type": "code",
   "execution_count": null,
   "metadata": {
    "execution": {
     "iopub.execute_input": "2021-06-29T08:59:03.524126Z",
     "iopub.status.busy": "2021-06-29T08:59:03.523397Z",
     "iopub.status.idle": "2021-06-29T08:59:03.540549Z",
     "shell.execute_reply": "2021-06-29T08:59:03.539177Z",
     "shell.execute_reply.started": "2021-06-29T08:59:03.524077Z"
    }
   },
   "outputs": [],
   "source": [
    "print(classification_report(y_test, prediction_test))"
   ]
  },
  {
   "cell_type": "code",
   "execution_count": null,
   "metadata": {
    "execution": {
     "iopub.execute_input": "2021-06-29T08:55:34.744061Z",
     "iopub.status.busy": "2021-06-29T08:55:34.743756Z",
     "iopub.status.idle": "2021-06-29T08:55:34.981277Z",
     "shell.execute_reply": "2021-06-29T08:55:34.980119Z",
     "shell.execute_reply.started": "2021-06-29T08:55:34.744032Z"
    }
   },
   "outputs": [],
   "source": [
    "plt.figure(figsize=(4,3))\n",
    "sns.heatmap(confusion_matrix(y_test, prediction_test),\n",
    "                annot=True,fmt = \"d\",linecolor=\"k\",linewidths=3)\n",
    "    \n",
    "plt.title(\" RANDOM FOREST CONFUSION MATRIX\",fontsize=14)\n",
    "plt.show()"
   ]
  },
  {
   "cell_type": "code",
   "execution_count": null,
   "metadata": {
    "execution": {
     "iopub.execute_input": "2021-06-29T08:55:34.983106Z",
     "iopub.status.busy": "2021-06-29T08:55:34.982728Z",
     "iopub.status.idle": "2021-06-29T08:55:35.330618Z",
     "shell.execute_reply": "2021-06-29T08:55:35.329599Z",
     "shell.execute_reply.started": "2021-06-29T08:55:34.983073Z"
    }
   },
   "outputs": [],
   "source": [
    "y_rfpred_prob = model_rf.predict_proba(X_test)[:,1]\n",
    "fpr_rf, tpr_rf, thresholds = roc_curve(y_test, y_rfpred_prob)\n",
    "plt.plot([0, 1], [0, 1], 'k--' )\n",
    "plt.plot(fpr_rf, tpr_rf, label='Random Forest',color = \"r\")\n",
    "plt.xlabel('False Positive Rate')\n",
    "plt.ylabel('True Positive Rate')\n",
    "plt.title('Random Forest ROC Curve',fontsize=16)\n",
    "plt.show();"
   ]
  },
  {
   "cell_type": "markdown",
   "metadata": {},
   "source": [
    "<a id = \"104\" ></a>\n",
    "#### <b>Logistic Regression</b>\n",
    "<a id = \"lr\" ></a>"
   ]
  },
  {
   "cell_type": "code",
   "execution_count": null,
   "metadata": {
    "execution": {
     "iopub.execute_input": "2021-06-29T08:55:35.332079Z",
     "iopub.status.busy": "2021-06-29T08:55:35.331781Z",
     "iopub.status.idle": "2021-06-29T08:55:35.408352Z",
     "shell.execute_reply": "2021-06-29T08:55:35.407092Z",
     "shell.execute_reply.started": "2021-06-29T08:55:35.33205Z"
    }
   },
   "outputs": [],
   "source": [
    "lr_model = LogisticRegression()\n",
    "lr_model.fit(X_train,y_train)\n",
    "accuracy_lr = lr_model.score(X_test,y_test)\n",
    "print(\"Logistic Regression accuracy is :\",accuracy_lr)"
   ]
  },
  {
   "cell_type": "code",
   "execution_count": null,
   "metadata": {
    "execution": {
     "iopub.execute_input": "2021-06-29T08:55:35.410486Z",
     "iopub.status.busy": "2021-06-29T08:55:35.410062Z",
     "iopub.status.idle": "2021-06-29T08:55:35.439172Z",
     "shell.execute_reply": "2021-06-29T08:55:35.437906Z",
     "shell.execute_reply.started": "2021-06-29T08:55:35.410441Z"
    }
   },
   "outputs": [],
   "source": [
    "lr_pred= lr_model.predict(X_test)\n",
    "report = classification_report(y_test,lr_pred)\n",
    "print(report)"
   ]
  },
  {
   "cell_type": "code",
   "execution_count": null,
   "metadata": {
    "execution": {
     "iopub.execute_input": "2021-06-29T08:55:35.444686Z",
     "iopub.status.busy": "2021-06-29T08:55:35.444211Z",
     "iopub.status.idle": "2021-06-29T08:55:35.713293Z",
     "shell.execute_reply": "2021-06-29T08:55:35.712326Z",
     "shell.execute_reply.started": "2021-06-29T08:55:35.44464Z"
    }
   },
   "outputs": [],
   "source": [
    "plt.figure(figsize=(4,3))\n",
    "sns.heatmap(confusion_matrix(y_test, lr_pred),\n",
    "                annot=True,fmt = \"d\",linecolor=\"k\",linewidths=3)\n",
    "    \n",
    "plt.title(\"LOGISTIC REGRESSION CONFUSION MATRIX\",fontsize=14)\n",
    "plt.show()"
   ]
  },
  {
   "cell_type": "code",
   "execution_count": null,
   "metadata": {
    "execution": {
     "iopub.execute_input": "2021-06-29T08:55:35.715071Z",
     "iopub.status.busy": "2021-06-29T08:55:35.71466Z",
     "iopub.status.idle": "2021-06-29T08:55:35.91616Z",
     "shell.execute_reply": "2021-06-29T08:55:35.91521Z",
     "shell.execute_reply.started": "2021-06-29T08:55:35.715037Z"
    }
   },
   "outputs": [],
   "source": [
    "y_pred_prob = lr_model.predict_proba(X_test)[:,1]\n",
    "fpr, tpr, thresholds = roc_curve(y_test, y_pred_prob)\n",
    "plt.plot([0, 1], [0, 1], 'k--' )\n",
    "plt.plot(fpr, tpr, label='Logistic Regression',color = \"r\")\n",
    "plt.xlabel('False Positive Rate')\n",
    "plt.ylabel('True Positive Rate')\n",
    "plt.title('Logistic Regression ROC Curve',fontsize=16)\n",
    "plt.show();"
   ]
  },
  {
   "cell_type": "markdown",
   "metadata": {},
   "source": [
    "<a id = \"105\" ></a>\n",
    "#### **Decision Tree Classifier**\n",
    "<a id = \"dtc\" ></a>"
   ]
  },
  {
   "cell_type": "code",
   "execution_count": null,
   "metadata": {
    "execution": {
     "iopub.execute_input": "2021-06-29T09:00:45.62588Z",
     "iopub.status.busy": "2021-06-29T09:00:45.62535Z",
     "iopub.status.idle": "2021-06-29T09:00:45.661933Z",
     "shell.execute_reply": "2021-06-29T09:00:45.661146Z",
     "shell.execute_reply.started": "2021-06-29T09:00:45.625832Z"
    }
   },
   "outputs": [],
   "source": [
    "dt_model = DecisionTreeClassifier()\n",
    "dt_model.fit(X_train,y_train)\n",
    "predictdt_y = dt_model.predict(X_test)\n",
    "accuracy_dt = dt_model.score(X_test,y_test)\n",
    "print(\"Decision Tree accuracy is :\",accuracy_dt)"
   ]
  },
  {
   "cell_type": "markdown",
   "metadata": {},
   "source": [
    "Decision tree gives very low score."
   ]
  },
  {
   "cell_type": "code",
   "execution_count": null,
   "metadata": {
    "execution": {
     "iopub.execute_input": "2021-06-29T09:00:56.663991Z",
     "iopub.status.busy": "2021-06-29T09:00:56.663475Z",
     "iopub.status.idle": "2021-06-29T09:00:56.676914Z",
     "shell.execute_reply": "2021-06-29T09:00:56.675331Z",
     "shell.execute_reply.started": "2021-06-29T09:00:56.663959Z"
    }
   },
   "outputs": [],
   "source": [
    "print(classification_report(y_test, predictdt_y))"
   ]
  },
  {
   "cell_type": "markdown",
   "metadata": {},
   "source": [
    "<a id = \"106\" ></a>\n",
    "#### **AdaBoost Classifier**\n",
    "<a id = \"ada\" ></a>"
   ]
  },
  {
   "cell_type": "code",
   "execution_count": null,
   "metadata": {
    "execution": {
     "iopub.execute_input": "2021-06-29T08:55:35.952497Z",
     "iopub.status.busy": "2021-06-29T08:55:35.952116Z",
     "iopub.status.idle": "2021-06-29T08:55:36.247375Z",
     "shell.execute_reply": "2021-06-29T08:55:36.246484Z",
     "shell.execute_reply.started": "2021-06-29T08:55:35.952467Z"
    }
   },
   "outputs": [],
   "source": [
    "a_model = AdaBoostClassifier()\n",
    "a_model.fit(X_train,y_train)\n",
    "a_preds = a_model.predict(X_test)\n",
    "print(\"AdaBoost Classifier accuracy\")\n",
    "metrics.accuracy_score(y_test, a_preds)"
   ]
  },
  {
   "cell_type": "code",
   "execution_count": null,
   "metadata": {
    "execution": {
     "iopub.execute_input": "2021-06-29T09:01:30.862986Z",
     "iopub.status.busy": "2021-06-29T09:01:30.862559Z",
     "iopub.status.idle": "2021-06-29T09:01:30.877468Z",
     "shell.execute_reply": "2021-06-29T09:01:30.87618Z",
     "shell.execute_reply.started": "2021-06-29T09:01:30.86295Z"
    }
   },
   "outputs": [],
   "source": [
    "print(classification_report(y_test, a_preds))"
   ]
  },
  {
   "cell_type": "code",
   "execution_count": null,
   "metadata": {
    "execution": {
     "iopub.execute_input": "2021-06-29T08:55:36.248948Z",
     "iopub.status.busy": "2021-06-29T08:55:36.248645Z",
     "iopub.status.idle": "2021-06-29T08:55:36.480332Z",
     "shell.execute_reply": "2021-06-29T08:55:36.479272Z",
     "shell.execute_reply.started": "2021-06-29T08:55:36.248919Z"
    }
   },
   "outputs": [],
   "source": [
    "plt.figure(figsize=(4,3))\n",
    "sns.heatmap(confusion_matrix(y_test, a_preds),\n",
    "                annot=True,fmt = \"d\",linecolor=\"k\",linewidths=3)\n",
    "    \n",
    "plt.title(\"AdaBoost Classifier Confusion Matrix\",fontsize=14)\n",
    "plt.show()"
   ]
  },
  {
   "cell_type": "markdown",
   "metadata": {},
   "source": [
    "<a id = \"107\" ></a>\n",
    "#### **Gradient Boosting Classifier**\n",
    "<a id = \"gb\" ></a>"
   ]
  },
  {
   "cell_type": "code",
   "execution_count": null,
   "metadata": {
    "execution": {
     "iopub.execute_input": "2021-06-29T08:55:36.482295Z",
     "iopub.status.busy": "2021-06-29T08:55:36.481888Z",
     "iopub.status.idle": "2021-06-29T08:55:37.214663Z",
     "shell.execute_reply": "2021-06-29T08:55:37.213677Z",
     "shell.execute_reply.started": "2021-06-29T08:55:36.482252Z"
    }
   },
   "outputs": [],
   "source": [
    "gb = GradientBoostingClassifier()\n",
    "gb.fit(X_train, y_train)\n",
    "gb_pred = gb.predict(X_test)\n",
    "print(\"Gradient Boosting Classifier\", accuracy_score(y_test, gb_pred))"
   ]
  },
  {
   "cell_type": "code",
   "execution_count": null,
   "metadata": {
    "execution": {
     "iopub.execute_input": "2021-06-29T09:01:48.524353Z",
     "iopub.status.busy": "2021-06-29T09:01:48.523733Z",
     "iopub.status.idle": "2021-06-29T09:01:48.548096Z",
     "shell.execute_reply": "2021-06-29T09:01:48.546137Z",
     "shell.execute_reply.started": "2021-06-29T09:01:48.524297Z"
    }
   },
   "outputs": [],
   "source": [
    "print(classification_report(y_test, gb_pred))"
   ]
  },
  {
   "cell_type": "code",
   "execution_count": null,
   "metadata": {
    "execution": {
     "iopub.execute_input": "2021-06-29T08:55:37.216142Z",
     "iopub.status.busy": "2021-06-29T08:55:37.215868Z",
     "iopub.status.idle": "2021-06-29T08:55:37.446138Z",
     "shell.execute_reply": "2021-06-29T08:55:37.445133Z",
     "shell.execute_reply.started": "2021-06-29T08:55:37.216114Z"
    }
   },
   "outputs": [],
   "source": [
    "plt.figure(figsize=(4,3))\n",
    "sns.heatmap(confusion_matrix(y_test, gb_pred),\n",
    "                annot=True,fmt = \"d\",linecolor=\"k\",linewidths=3)\n",
    "    \n",
    "plt.title(\"Gradient Boosting Classifier Confusion Matrix\",fontsize=14)\n",
    "plt.show()"
   ]
  },
  {
   "cell_type": "markdown",
   "metadata": {},
   "source": [
    "<a id = \"108\" ></a>\n",
    "#### **Voting Classifier**\n",
    "<a id = \"vc\" ></a>\n",
    "Let's now predict the final model based on the highest majority of voting and check it's score."
   ]
  },
  {
   "cell_type": "code",
   "execution_count": null,
   "metadata": {
    "execution": {
     "iopub.execute_input": "2021-06-29T08:55:37.447617Z",
     "iopub.status.busy": "2021-06-29T08:55:37.447334Z",
     "iopub.status.idle": "2021-06-29T08:55:38.607025Z",
     "shell.execute_reply": "2021-06-29T08:55:38.605685Z",
     "shell.execute_reply.started": "2021-06-29T08:55:37.447591Z"
    }
   },
   "outputs": [],
   "source": [
    "from sklearn.ensemble import VotingClassifier\n",
    "clf1 = GradientBoostingClassifier()\n",
    "clf2 = LogisticRegression()\n",
    "clf3 = AdaBoostClassifier()\n",
    "eclf1 = VotingClassifier(estimators=[('gbc', clf1), ('lr', clf2), ('abc', clf3)], voting='soft')\n",
    "eclf1.fit(X_train, y_train)\n",
    "predictions = eclf1.predict(X_test)\n",
    "print(\"Final Accuracy Score \")\n",
    "print(accuracy_score(y_test, predictions))"
   ]
  },
  {
   "cell_type": "code",
   "execution_count": null,
   "metadata": {
    "execution": {
     "iopub.execute_input": "2021-06-29T09:02:13.192676Z",
     "iopub.status.busy": "2021-06-29T09:02:13.192299Z",
     "iopub.status.idle": "2021-06-29T09:02:13.20672Z",
     "shell.execute_reply": "2021-06-29T09:02:13.205458Z",
     "shell.execute_reply.started": "2021-06-29T09:02:13.192644Z"
    }
   },
   "outputs": [],
   "source": [
    "print(classification_report(y_test, predictions))"
   ]
  },
  {
   "cell_type": "code",
   "execution_count": null,
   "metadata": {
    "execution": {
     "iopub.execute_input": "2021-06-29T08:55:38.609206Z",
     "iopub.status.busy": "2021-06-29T08:55:38.608752Z",
     "iopub.status.idle": "2021-06-29T08:55:38.866325Z",
     "shell.execute_reply": "2021-06-29T08:55:38.865328Z",
     "shell.execute_reply.started": "2021-06-29T08:55:38.609162Z"
    }
   },
   "outputs": [],
   "source": [
    "plt.figure(figsize=(4,3))\n",
    "sns.heatmap(confusion_matrix(y_test, predictions),\n",
    "                annot=True,fmt = \"d\",linecolor=\"k\",linewidths=3)\n",
    "    \n",
    "plt.title(\"FINAL CONFUSION MATRIX\",fontsize=14)\n",
    "plt.show()"
   ]
  },
  {
   "cell_type": "markdown",
   "metadata": {},
   "source": [
    "From the confusion matrix we can see that: \n",
    "There are total 1400+149=1549 actual non-churn values and the algorithm predicts 1400 of them as non churn and 149 of them as churn.\n",
    "While there are 237+324=561 actual churn values and the algorithm predicts 237 of them as non churn values and 324 of them as churn values."
   ]
  },
  {
   "cell_type": "markdown",
   "metadata": {},
   "source": [
    "Customer churn is definitely bad to a firm ’s profitability. Various strategies can be implemented to eliminate customer churn. The best way to avoid customer churn is for a company to truly know its customers. This includes identifying customers who are at risk of churning and working to improve their satisfaction. Improving customer service is, of course, at the top of the priority for tackling this issue. Building customer loyalty through relevant experiences and specialized service is another strategy to reduce customer churn. Some firms survey customers who have already churned to understand their reasons for leaving in order to adopt a proactive approach to avoiding future customer churn. "
   ]
  }
 ],
 "metadata": {
  "kernelspec": {
   "display_name": "Python 3 (ipykernel)",
   "language": "python",
   "name": "python3"
  },
  "language_info": {
   "codemirror_mode": {
    "name": "ipython",
    "version": 3
   },
   "file_extension": ".py",
   "mimetype": "text/x-python",
   "name": "python",
   "nbconvert_exporter": "python",
   "pygments_lexer": "ipython3",
   "version": "3.9.13"
  }
 },
 "nbformat": 4,
 "nbformat_minor": 4
}
